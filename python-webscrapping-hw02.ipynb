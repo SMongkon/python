{
 "cells": [
  {
   "cell_type": "code",
   "execution_count": 1,
   "metadata": {},
   "outputs": [
    {
     "name": "stdout",
     "output_type": "stream",
     "text": [
      "AI the new focus at Commart IT event \n",
      "-----\n",
      "Alibaba tests generative AI tools new tech arms race heats up \n",
      "-----\n",
      "Japan urges Line operator to improve data protection \n",
      "-----\n",
      "Mono preps AI-generated news anchors \n",
      "-----\n",
      "Google stops AI from creating human images \n",
      "-----\n",
      "Advertising ruins everything \n",
      "-----\n"
     ]
    }
   ],
   "source": [
    "import requests\n",
    "from bs4 import BeautifulSoup as soup\n",
    "\n",
    "url = 'https://www.bangkokpost.com/life/tech'\n",
    "r = requests.get(url)\n",
    "page_html = r.text\n",
    "\n",
    "data = soup(page_html, 'html.parser')\n",
    "\n",
    "links = data.find_all('div', {'class':'news--list-text'})\n",
    "\n",
    "for l in links:\n",
    "    text = l.h3.text\n",
    "    text = text.replace('\\n','')\n",
    "    text = text.replace('\\t','')\n",
    "    print(text)\n",
    "    print('-----')"
   ]
  },
  {
   "cell_type": "code",
   "execution_count": null,
   "metadata": {},
   "outputs": [],
   "source": []
  }
 ],
 "metadata": {
  "kernelspec": {
   "display_name": "Python 3",
   "language": "python",
   "name": "python3"
  },
  "language_info": {
   "codemirror_mode": {
    "name": "ipython",
    "version": 3
   },
   "file_extension": ".py",
   "mimetype": "text/x-python",
   "name": "python",
   "nbconvert_exporter": "python",
   "pygments_lexer": "ipython3",
   "version": "3.12.2"
  }
 },
 "nbformat": 4,
 "nbformat_minor": 2
}
